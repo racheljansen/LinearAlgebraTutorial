{
 "cells": [
  {
   "cell_type": "markdown",
   "metadata": {},
   "source": [
    "<center> <h1>QuACK workshop: Linear Algebra</h1> </center>\n",
    "\n",
    "## Thursday, October 13, 2016\n",
    "\n",
    "## Outline\n",
    "   * Why linear algebra?\n",
    "   * Basics of linear algebra: worksheet\n",
    "   * Linear regression example\n",
    "   * Some more examples to check out and resources \n",
    "   "
   ]
  },
  {
   "cell_type": "markdown",
   "metadata": {},
   "source": [
    "### Let's start with some basics:\n",
    "* Vectors\n",
    "* Matrices\n",
    "* Dot products\n",
    "* Matrix dimensions\n",
    "* Matrix operations\n",
    "* Transpose of a matrix\n",
    "* Eigenvectors and eigenvalues"
   ]
  },
  {
   "cell_type": "markdown",
   "metadata": {},
   "source": [
    "$1.$\tWhat is a vector? An example or a drawing will suffice."
   ]
  },
  {
   "cell_type": "code",
   "execution_count": null,
   "metadata": {
    "collapsed": false
   },
   "outputs": [],
   "source": [
    "plot(c(0,1),c(0,1))\n",
    "arrows(0,0,1,1,col=\"blue\")"
   ]
  },
  {
   "cell_type": "markdown",
   "metadata": {},
   "source": [
    "$2.$\tPlease give an example of a matrix. What are they used for?"
   ]
  },
  {
   "cell_type": "markdown",
   "metadata": {},
   "source": [
    "$$\\begin{bmatrix}\n",
    "    x_{11}       & x_{12} & x_{13} & \\dots & x_{1n} \\\\\n",
    "    x_{21}       & x_{22} & x_{23} & \\dots & x_{2n} \\\\\n",
    "    x_{d1}       & x_{d2} & x_{d3} & \\dots & x_{dn}\n",
    "\\end{bmatrix}$$"
   ]
  },
  {
   "cell_type": "markdown",
   "metadata": {},
   "source": [
    "$3.$ \tLet $v$ be the vector $(2,5,7)$. What is $3 ∙ v$ ?"
   ]
  },
  {
   "cell_type": "code",
   "execution_count": null,
   "metadata": {
    "collapsed": false
   },
   "outputs": [],
   "source": [
    "v = c(2,5,7)\n",
    "v\n",
    "3*v"
   ]
  },
  {
   "cell_type": "markdown",
   "metadata": {},
   "source": [
    "$4.$ Let $w$ be the vector $(3,4,1)$. What is the dot product $v ∙w$ ?"
   ]
  },
  {
   "cell_type": "code",
   "execution_count": null,
   "metadata": {
    "collapsed": false
   },
   "outputs": [],
   "source": [
    "w = c(3,4,1)\n",
    "w\n",
    "v %*% w"
   ]
  },
  {
   "cell_type": "markdown",
   "metadata": {},
   "source": [
    "$5.$\tIf you multiply a 2 x 3 matrix with a 3 x 7 matrix, what is the size of the matrix you will end up with? What about if you multiply a 4 x 4 with a 3 x 4? "
   ]
  },
  {
   "cell_type": "markdown",
   "metadata": {},
   "source": [
    "$$\n",
    "\\begin{bmatrix} a_{11} & a_{12} & a_{13}\\\\ a_{21} & a_{22} & a_{23}\\end{bmatrix} \\cdot \\begin{bmatrix} b_{11} & b_{12} & b_{13} & b_{14} & b_{15} & b_{16} & b_{17} \\\\ b_{21} & b_{22} & b_{23} & b_{24} & b_{25} & b_{26} & b_{27}\\\\ b_{31} & b_{32} & b_{33} & b_{34} & b_{35} & b_{36} & b_{37} \\\\  \\end{bmatrix} =  ?\n",
    "$$\n",
    "\n",
    "$$\n",
    "\\begin{bmatrix} x_{11} & x_{12} & x_{13} & x_{14}\\\\ x_{21} & x_{22} & x_{23} & x_{24} \\\\ x_{31} & x_{32} & x_{33} & x_{34} \\\\ x_{41} & x_{42} & x_{43} & x_{44}\\end{bmatrix} \\cdot \\begin{bmatrix} y_{11} & y_{12} & y_{13} & y_{14}\\\\ y_{21} & y_{22} & y_{23} & y_{24}\\\\ y_{31} & y_{32} & y_{33} & y_{34} \\end{bmatrix} =  ?\n",
    "$$"
   ]
  },
  {
   "cell_type": "code",
   "execution_count": null,
   "metadata": {
    "collapsed": false
   },
   "outputs": [],
   "source": [
    "M1 = matrix(rnorm(6),2,3) # generates 6 numbers from a normal distribution and arranges them in a 2x3 matrix\n",
    "M2 = matrix(rnorm(21),3,7) \n",
    "dim(M1)\n",
    "dim(M2)\n",
    "dim(M1 %*% M2)"
   ]
  },
  {
   "cell_type": "code",
   "execution_count": null,
   "metadata": {
    "collapsed": false
   },
   "outputs": [],
   "source": [
    "M1 = matrix(rnorm(16),4,4)  \n",
    "M2 = matrix(rnorm(12),3,4)  \n",
    "dim(M1)\n",
    "dim(M2)\n",
    "dim(M1 %*% M2) # you should get an error!"
   ]
  },
  {
   "cell_type": "markdown",
   "metadata": {},
   "source": [
    "$6.$ Let $A$ and $B$ be matrices:  \n",
    "$$A = \\begin{bmatrix}\n",
    "    2 & 1 \\\\\n",
    "    5 & 0 \\\\\n",
    "\\end{bmatrix}$$\n",
    "\n",
    "$$B = \\begin{bmatrix}\n",
    "    1 & 1 \\\\\n",
    "    4 & 2 \\\\\n",
    "\\end{bmatrix}$$\n",
    "Calculate $A + B$, $AB$, and $2A – B$."
   ]
  },
  {
   "cell_type": "code",
   "execution_count": null,
   "metadata": {
    "collapsed": false
   },
   "outputs": [],
   "source": [
    "A = matrix(c(2,5,1,0),nrow=2,ncol=2)\n",
    "B = matrix(c(1,1,4,2),nrow=2,ncol=2,byrow=T)\n",
    "A\n",
    "B"
   ]
  },
  {
   "cell_type": "code",
   "execution_count": null,
   "metadata": {
    "collapsed": false
   },
   "outputs": [],
   "source": [
    "dim(A)\n",
    "dim(B)"
   ]
  },
  {
   "cell_type": "markdown",
   "metadata": {},
   "source": [
    "$$\n",
    "A + B = \\begin{bmatrix} a_{11} & a_{12} \\\\ a_{21} & a_{22} \\end{bmatrix} + \\begin{bmatrix} b_{11} & b_{12} \\\\ b_{21} & b_{22} \\end{bmatrix} = \\begin{bmatrix} a_{11} + b_{11} & a_{12} + b_{12} \\\\ a_{21} + b_{21} & a_{22} + b_{22} \\end{bmatrix}\n",
    "$$"
   ]
  },
  {
   "cell_type": "code",
   "execution_count": null,
   "metadata": {
    "collapsed": false
   },
   "outputs": [],
   "source": [
    "A+B"
   ]
  },
  {
   "cell_type": "markdown",
   "metadata": {},
   "source": [
    "$$\n",
    "A \\cdot B = \\begin{bmatrix} a_{11} & a_{12} \\\\ a_{21} & a_{22} \\end{bmatrix} \\cdot \\begin{bmatrix} b_{11} & b_{12} \\\\ b_{21} & b_{22} \\end{bmatrix} = \\begin{bmatrix} a_{11} \\cdot b_{11} + a_{12} \\cdot b_{21} & a_{11} \\cdot b_{12} + a_{12} \\cdot b_{22} \\\\ a_{21} \\cdot b_{11} + a_{22} \\cdot b_{21} & a_{21} \\cdot b_{12} + a_{22} \\cdot b_{22} \\end{bmatrix}\n",
    "$$"
   ]
  },
  {
   "cell_type": "code",
   "execution_count": null,
   "metadata": {
    "collapsed": false
   },
   "outputs": [],
   "source": [
    "A*B # careful, this does element-wise multiplication! "
   ]
  },
  {
   "cell_type": "code",
   "execution_count": null,
   "metadata": {
    "collapsed": false
   },
   "outputs": [],
   "source": [
    "A %*% B # this is the appropriate operation in R for matrix multiplication!"
   ]
  },
  {
   "cell_type": "markdown",
   "metadata": {},
   "source": [
    "$$\n",
    "2 \\cdot A - B = 2 \\cdot \\begin{bmatrix} a_{11} & a_{12} \\\\ a_{21} & a_{22} \\end{bmatrix} - \\begin{bmatrix} b_{11} & b_{12} \\\\ b_{21} & b_{22} \\end{bmatrix} = \\begin{bmatrix} 2 \\cdot a_{11} - b_{11} & 2\\cdot a_{12} - b_{12} \\\\ 2 \\cdot a_{21} - b_{21} & 2\\cdot a_{22} - b_{22} \\end{bmatrix}\n",
    "$$"
   ]
  },
  {
   "cell_type": "code",
   "execution_count": null,
   "metadata": {
    "collapsed": false
   },
   "outputs": [],
   "source": [
    "2 * A - B"
   ]
  },
  {
   "cell_type": "markdown",
   "metadata": {},
   "source": [
    "$7.$ What is the norm of the vector $(3,1,2,4)$?"
   ]
  },
  {
   "cell_type": "code",
   "execution_count": null,
   "metadata": {
    "collapsed": false
   },
   "outputs": [],
   "source": [
    "x  <- c(3,1,2,4)\n",
    "length(x) # careful, this just tells you how many elements are in a vector!"
   ]
  },
  {
   "cell_type": "markdown",
   "metadata": {},
   "source": [
    "We want to calculate: $||x|| = \\sqrt{x_1^2 + x_2^2 + ... + x_n^2} = \\sqrt{x \\cdot x}$"
   ]
  },
  {
   "cell_type": "code",
   "execution_count": null,
   "metadata": {
    "collapsed": false
   },
   "outputs": [],
   "source": [
    "norm(x, type=\"2\") # this gives the euclidean norm\n",
    "sqrt(sum(x*x)) # this is the mathematical version"
   ]
  },
  {
   "cell_type": "markdown",
   "metadata": {},
   "source": [
    "$8.$ What is a unit vector? "
   ]
  },
  {
   "cell_type": "code",
   "execution_count": null,
   "metadata": {
    "collapsed": false
   },
   "outputs": [],
   "source": [
    "unitx <- x/(norm(x, type=\"2\"))\n",
    "norm(unitx, type=\"2\") # this show us that x is of length 1! The definition of a unit vector"
   ]
  },
  {
   "cell_type": "markdown",
   "metadata": {},
   "source": [
    "$9.$ What is the transpose of $B$?\n",
    "\n",
    "$$\n",
    "\\begin{bmatrix} a_{11} & a_{12} \\\\ a_{21} & a_{22} \\end{bmatrix}^T = \\begin{bmatrix} a_{11} & a_{21} \\\\ a_{12} & a_{22} \\end{bmatrix}\n",
    "$$"
   ]
  },
  {
   "cell_type": "code",
   "execution_count": null,
   "metadata": {
    "collapsed": true
   },
   "outputs": [],
   "source": [
    "t(B)"
   ]
  },
  {
   "cell_type": "markdown",
   "metadata": {},
   "source": [
    "$10.$ What is an eigenvector? An eigenvalue? "
   ]
  },
  {
   "cell_type": "markdown",
   "metadata": {},
   "source": [
    "\n",
    "$$\n",
    "\\begin{align}\n",
    "\\textbf{A} &\\cdot \\textbf{x} &= \\lambda &\\cdot \\textbf{x} \\\\\n",
    "\\begin{bmatrix} a_{11} & a_{12} \\\\ a_{21} & a_{22} \\end{bmatrix} &\\cdot \\left[ \\begin{array}{c} x_1 \\\\ x_2 \\end{array} \\right] &= \\lambda &\\cdot \\left[  \\begin{array}{c} x_1 \\\\ x_2 \\end{array} \\right]\n",
    "\\end{align}\n",
    "$$\n",
    "\n",
    "$\\textbf{x} =\\left[ \\begin{array}{c} x_1 \\\\ x_2 \\end{array} \\right]$ is an **eigenvector** of the matrix $\\textbf{A}$.\n",
    "\n",
    "$\\lambda$ is the **eigenvalue** of the matrix $\\textbf{A}$, corresponding to the eigenvector $\\textbf{x}$."
   ]
  },
  {
   "cell_type": "code",
   "execution_count": null,
   "metadata": {
    "collapsed": false
   },
   "outputs": [],
   "source": [
    "M = matrix(c(4,-1,2,1),nrow=2,ncol=2) \n",
    "M\n",
    "eigen(M)"
   ]
  },
  {
   "cell_type": "markdown",
   "metadata": {},
   "source": [
    "\n",
    "---\n",
    "## Defining Matrices in R\n"
   ]
  },
  {
   "cell_type": "code",
   "execution_count": null,
   "metadata": {
    "collapsed": false
   },
   "outputs": [],
   "source": [
    "M = matrix(c(2, 4, 3, 1, 5, 7),nrow=3,ncol=2) \n",
    "M\n",
    "\n",
    "t(M) # transpose of B"
   ]
  },
  {
   "cell_type": "code",
   "execution_count": null,
   "metadata": {
    "collapsed": false
   },
   "outputs": [],
   "source": [
    "W <- matrix(c(rep(1, 3), rep(2, 3)), 2, byrow = T)\n",
    "W\n",
    "X <- matrix(c(3, 3, 3), nrow=3, ncol=1)\n",
    "X\n",
    "Y <- rbind(W,t(X))\n",
    "Y\n",
    "Z <- cbind(t(W),X)\n",
    "Z\n",
    "\n",
    "c(Z) # deconstructs the matrix"
   ]
  },
  {
   "cell_type": "markdown",
   "metadata": {},
   "source": [
    "# Uses of inner product\n"
   ]
  },
  {
   "cell_type": "markdown",
   "metadata": {},
   "source": [
    "$$\n",
    "x \\cdot y = x^T \\cdot y\n",
    "$$\n",
    "\n",
    "### Cosine computed with inner products:\n",
    "$$\n",
    "cos(x,y) = \\frac{x^T \\cdot y}{||x|| \\cdot ||y||}\n",
    "$$\n",
    "where $||x|| = \\sqrt{x_1^2 + x_2^2 + ... + x_n^2} = \\sqrt{x \\cdot x}$ is the norm of vector $x$.\n",
    "\n",
    "This is a normalized inner product, since we're dividing by the norm of $x$ and of $y$.\n",
    "\n"
   ]
  },
  {
   "cell_type": "code",
   "execution_count": null,
   "metadata": {
    "collapsed": false
   },
   "outputs": [],
   "source": [
    "x <-  c(1,0)\n",
    "y <-  c(-1,0)\n",
    "normx <- norm(x, type=\"2\")\n",
    "normy <- norm(y, type=\"2\")\n",
    "cospi <- cos(pi)\n",
    "cosxy <- (x%*%y)/(normx*normy)\n",
    "sprintf(\"cos(pi): %s\", cospi)\n",
    "sprintf(\"cos(x,y): %s\", cosxy)"
   ]
  },
  {
   "cell_type": "markdown",
   "metadata": {},
   "source": [
    "### An example of inner products in basic stats! The Pearson correlation:\n",
    "$$\n",
    "\\begin{align}\n",
    "Corr(x,y) &= \\frac{\\sum_i{(x_i - \\bar{x})(y_i - \\bar{y})}}{\\sqrt{\\sum{(x_i-\\bar{x})^2}}\\sqrt{\\sum{(y_i-\\bar{y})^2}}} \\\\\n",
    "&= \\frac{(x-\\bar{x}) \\cdot (y-\\bar{y})}{||x-\\bar{x}|| \\cdot ||y-\\bar{y}||} \\\\\n",
    "&= cos(x-\\bar{x},y-\\bar{y})\n",
    "\\end{align}\n",
    "$$\n",
    "\n",
    "Where $\\bar{x}$ and $\\bar{y}$ are the means of vectors $x$ and $y$.\n",
    "\n",
    "This looks like a centered cosine, since we're centering $x$ and $y$ values around the mean. \n",
    "\n",
    "Are these vectors pointing the same direction? If so, they have a larger inner product."
   ]
  },
  {
   "cell_type": "code",
   "execution_count": null,
   "metadata": {
    "collapsed": true
   },
   "outputs": [],
   "source": [
    "#cor(x, use=all.obs, method=pearson) # how you could calculate a pearson correlation in R"
   ]
  },
  {
   "cell_type": "markdown",
   "metadata": {},
   "source": [
    "\n",
    "---\n",
    "# Resources:\n",
    "* https://www.khanacademy.org/math/linear-algebra"
   ]
  }
 ],
 "metadata": {
  "anaconda-cloud": {},
  "kernelspec": {
   "display_name": "R",
   "language": "R",
   "name": "ir"
  },
  "language_info": {
   "codemirror_mode": "r",
   "file_extension": ".r",
   "mimetype": "text/x-r-source",
   "name": "R",
   "pygments_lexer": "r",
   "version": "3.2.2"
  }
 },
 "nbformat": 4,
 "nbformat_minor": 0
}
